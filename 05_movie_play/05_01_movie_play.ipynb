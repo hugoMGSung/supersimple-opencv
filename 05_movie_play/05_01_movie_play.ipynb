{
 "cells": [
  {
   "cell_type": "markdown",
   "id": "e140b24f",
   "metadata": {},
   "source": [
    "# 05-01 동영상 안전하게 로드\n",
    "\n",
    "## 이전 동영상 플레이"
   ]
  },
  {
   "cell_type": "code",
   "execution_count": 2,
   "id": "2e40532c",
   "metadata": {},
   "outputs": [],
   "source": [
    "import cv2\n",
    "import numpy as np"
   ]
  },
  {
   "cell_type": "markdown",
   "id": "8ebb7768",
   "metadata": {},
   "source": [
    "### 동영상 재생"
   ]
  },
  {
   "cell_type": "code",
   "execution_count": null,
   "id": "5670d60c",
   "metadata": {},
   "outputs": [],
   "source": [
    "capture = cv2.VideoCapture('./data/file_example_MP4_640_3MG.mp4')\n",
    "\n",
    "while True:\n",
    "    ret, frame = capture.read()\n",
    "    if not ret: break\n",
    "\n",
    "    cv2.imshow(\"video\", frame)\n",
    "    if cv2.waitKey(1) == ord('q'): break\n",
    "\n",
    "capture.release()\n",
    "cv2.destroyAllWindows()"
   ]
  },
  {
   "cell_type": "markdown",
   "id": "2d714b3d",
   "metadata": {},
   "source": [
    "## 안전 방식"
   ]
  },
  {
   "cell_type": "code",
   "execution_count": null,
   "id": "5a5e1565",
   "metadata": {},
   "outputs": [],
   "source": [
    "import cv2, time, os\n",
    "import numpy as np\n",
    "\n",
    "VIDEO_PATH = './data/file_example_MP4_640_3MG.mp4'  # 지구 자전 동영상\n",
    "\n",
    "# 백엔드(FFMPEG) 우선 시도 → 실패 시 자동 대체\n",
    "cap = cv2.VideoCapture(VIDEO_PATH, cv2.CAP_FFMPEG)\n",
    "if not cap.isOpened():\n",
    "    cap = cv2.VideoCapture(VIDEO_PATH)  # CAP_ANY"
   ]
  },
  {
   "cell_type": "code",
   "execution_count": 67,
   "id": "64572f8e",
   "metadata": {},
   "outputs": [],
   "source": [
    "if not cap.isOpened():\n",
    "    raise RuntimeError('동영상을 열 수 없습니다. 경로/코덱을 확인하세요.')  # 동영상 로드 실패시 예외발생"
   ]
  },
  {
   "cell_type": "code",
   "execution_count": 68,
   "id": "d0ee2389",
   "metadata": {},
   "outputs": [],
   "source": [
    "fps = cap.get(cv2.CAP_PROP_FPS)\n",
    "delay = int(1000 / fps) if fps and fps > 1 else 33  # 안전 기본값 30fps"
   ]
  },
  {
   "cell_type": "code",
   "execution_count": 69,
   "id": "e8e347bc",
   "metadata": {},
   "outputs": [
    {
     "name": "stdout",
     "output_type": "stream",
     "text": [
      "끝까지 재생했거나 프레임 읽기 실패. 종료합니다.\n"
     ]
    }
   ],
   "source": [
    "paused = False\n",
    "while True:\n",
    "    if not paused:\n",
    "        ret, frame = cap.read()\n",
    "        if not ret:\n",
    "            print('끝까지 재생했거나 프레임 읽기 실패. 종료합니다.')\n",
    "            break\n",
    "\n",
    "        # 화면 우상단에 프레임 번호/총프레임 표시\n",
    "        idx = int(cap.get(cv2.CAP_PROP_POS_FRAMES))\n",
    "        total = int(cap.get(cv2.CAP_PROP_FRAME_COUNT))\n",
    "        cv2.putText(frame, f\"{idx}/{total}\", (10, 30),\n",
    "                    cv2.FONT_HERSHEY_SIMPLEX, 0.9, (0,255,255), 2)\n",
    "        cv2.putText(frame, f\"FPS : {fps}\", (10, 70),\n",
    "                    cv2.FONT_HERSHEY_SIMPLEX, 0.5, (0,255,255), 2)\n",
    "\n",
    "        cv2.imshow('Video Player', frame)\n",
    "\n",
    "    key = cv2.waitKey(0 if paused else delay) & 0xFF\n",
    "\n",
    "    if key in (ord('q'), 27):  # q or ESC\n",
    "        break\n",
    "    elif key == ord(' '):      # Space → pause/resume\n",
    "        paused = not paused\n",
    "\n",
    "cap.release()\n",
    "cv2.destroyAllWindows()"
   ]
  },
  {
   "cell_type": "markdown",
   "id": "26816b5b",
   "metadata": {},
   "source": [
    "### 전체 소스"
   ]
  },
  {
   "cell_type": "code",
   "execution_count": null,
   "id": "0bd62c8d",
   "metadata": {},
   "outputs": [],
   "source": [
    "import cv2, time, os\n",
    "import numpy as np\n",
    "\n",
    "VIDEO_PATH = './data/file_example_MP4_640_3MG.mp4' # 지구 자전 동영상\n",
    "\n",
    "# 1. 백엔드(FFMPEG) 우선 시도 → 실패 시 자동 대체\n",
    "cap = cv2.VideoCapture(VIDEO_PATH, cv2.CAP_FFMPEG)  \n",
    "if not cap.isOpened():\n",
    "    cap = cv2.VideoCapture(VIDEO_PATH) # CAP_ANY\n",
    "\n",
    "if not cap.isOpened():\n",
    "    raise RuntimeError('동영상을 열 수 없습니다. 경로/코덱을 확인하세요.') # 동영상 로드 실패시 예외발생\n",
    "\n",
    "fps = cap.get(cv2.CAP_PROP_FPS)\n",
    "delay = int(1000 / fps) if fps and fps > 1 else 33   # 2. 지연시간 안전 기본값 30fps\n",
    "\n",
    "paused = False\n",
    "while True:\n",
    "    if not paused:\n",
    "        ret, frame = cap.read()   # 3. ret 기반 루프\n",
    "        if not ret:\n",
    "            print('끝까지 재생했거나 프레임 읽기 실패. 종료합니다.')\n",
    "            break\n",
    "\n",
    "        # 화면 우상단에 프레임 번호/총프레임 표시\n",
    "        idx = int(cap.get(cv2.CAP_PROP_POS_FRAMES))\n",
    "        total = int(cap.get(cv2.CAP_PROP_FRAME_COUNT))\n",
    "        cv2.putText(frame, f\"{idx}/{total}\", (10, 30),\n",
    "                    cv2.FONT_HERSHEY_SIMPLEX, 0.9, (0,255,255), 2)\n",
    "        cv2.putText(frame, f\"FPS : {fps}\", (10, 70),\n",
    "                    cv2.FONT_HERSHEY_SIMPLEX, 0.5, (0,255,255), 2)\n",
    "        cv2.imshow('Video Player', frame)\n",
    "\n",
    "    key = cv2.waitKey(0 if paused else delay) & 0xFF\n",
    "    if key in (ord('q'), 27):   # q or ESC\n",
    "        break\n",
    "    elif key == ord(' '):       # Space → pause/resume\n",
    "        paused = not paused\n",
    "    \n",
    "    elif key == ord('s') and 'frame' in locals():\n",
    "        # 유니코드 경로에서도 안전 저장 (imencode→tofile)\n",
    "        ok, buf = cv2.imencode('.png', frame)\n",
    "        if ok:\n",
    "            fname = f'./result/snap_{int(time.time())}.png'\n",
    "            buf.tofile(fname)\n",
    "            print('스크린샷 저장:', fname)\n",
    "    elif key == 81 or key == ord('h'):  # ← (또는 h)\n",
    "        # 1초 뒤로\n",
    "        cur = cap.get(cv2.CAP_PROP_POS_MSEC)\n",
    "        cap.set(cv2.CAP_PROP_POS_MSEC, max(cur - 1000, 0))\n",
    "        paused = False\n",
    "    elif key == 83 or key == ord('l'):  # → (또는 l)\n",
    "        # 1초 앞으로\n",
    "        cur = cap.get(cv2.CAP_PROP_POS_MSEC)\n",
    "        cap.set(cv2.CAP_PROP_POS_MSEC, cur + 1000)\n",
    "        paused = False\n",
    "\n",
    "cap.release()\n",
    "cv2.destroyAllWindows()"
   ]
  }
 ],
 "metadata": {
  "kernelspec": {
   "display_name": "Python 3",
   "language": "python",
   "name": "python3"
  },
  "language_info": {
   "codemirror_mode": {
    "name": "ipython",
    "version": 3
   },
   "file_extension": ".py",
   "mimetype": "text/x-python",
   "name": "python",
   "nbconvert_exporter": "python",
   "pygments_lexer": "ipython3",
   "version": "3.9.13"
  }
 },
 "nbformat": 4,
 "nbformat_minor": 5
}
