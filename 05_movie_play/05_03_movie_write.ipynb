{
 "cells": [
  {
   "cell_type": "markdown",
   "id": "e140b24f",
   "metadata": {},
   "source": [
    "# 05-03 동영상 저장\n",
    "\n",
    "## 이전 동영상 플레이"
   ]
  },
  {
   "cell_type": "markdown",
   "id": "8ebb7768",
   "metadata": {},
   "source": [
    "### 동영상 재생"
   ]
  },
  {
   "cell_type": "code",
   "execution_count": null,
   "id": "5670d60c",
   "metadata": {},
   "outputs": [],
   "source": [
    "import cv2\n",
    "import numpy as np\n",
    "\n",
    "capture = cv2.VideoCapture('./data/file_example_MP4_640_3MG.mp4')\n",
    "\n",
    "while True:\n",
    "    ret, frame = capture.read()\n",
    "    if not ret: break\n",
    "\n",
    "    cv2.imshow('video', frame)\n",
    "    if cv2.waitKey(1) == ord('q'): break\n",
    "\n",
    "capture.release()\n",
    "cv2.destroyAllWindows()"
   ]
  },
  {
   "cell_type": "markdown",
   "id": "a6c7c059",
   "metadata": {},
   "source": [
    "### 프레임 처리함수 다시"
   ]
  },
  {
   "cell_type": "code",
   "execution_count": 3,
   "id": "0b4759ba",
   "metadata": {},
   "outputs": [],
   "source": [
    "def process_frame(frame):\n",
    "    h, w = frame.shape[:2]\n",
    "\n",
    "    # 그레이 변환 후 3채널로 복원(시각화 통일 위해)\n",
    "    gray = cv2.cvtColor(frame, cv2.COLOR_BGR2GRAY)\n",
    "    gray_bgr = cv2.cvtColor(gray, cv2.COLOR_GRAY2BGR)\n",
    "\n",
    "    # 좌측 상단에 미니맵(축소 원본) 삽입\n",
    "    mini = cv2.resize(frame, (w//4, h//4), interpolation=cv2.INTER_AREA)\n",
    "    gray_bgr[10:10+mini.shape[0], 10:10+mini.shape[1]] = mini\n",
    "\n",
    "    # 워터마크 텍스트\n",
    "    cv2.putText(gray_bgr, 'OpenCV Video Processing', (10, h-15),\n",
    "                cv2.FONT_HERSHEY_SIMPLEX, 0.7, (0, 255, 255), 2, cv2.LINE_AA)\n",
    "    \n",
    "    return gray_bgr"
   ]
  },
  {
   "cell_type": "code",
   "execution_count": null,
   "id": "de4fb02d",
   "metadata": {},
   "outputs": [
    {
     "name": "stdout",
     "output_type": "stream",
     "text": [
      "저장 완료: output.mp4\n"
     ]
    }
   ],
   "source": [
    "import cv2\n",
    "import numpy as np\n",
    "\n",
    "inp = cv2.VideoCapture('./data/file_example_MP4_640_3MG.mp4', cv2.CAP_FFMPEG)\n",
    "if not inp.isOpened(): inp = cv2.VideoCapture('./data/file_example_MP4_640_3MG.mp4')\n",
    "if not inp.isOpened(): raise RuntimeError('입력 영상을 열 수 없습니다.')\n",
    "\n",
    "fps = inp.get(cv2.CAP_PROP_FPS) or 30     # FPT\n",
    "w   = int(inp.get(cv2.CAP_PROP_FRAME_WIDTH))   # 해상도 넓이\n",
    "h   = int(inp.get(cv2.CAP_PROP_FRAME_HEIGHT))  # 해상도 높이\n",
    "size = (w, h)\n",
    "\n",
    "# 코덱: mp4 파일이면 보통 'mp4v'가 무난 (플랫폼별 가용 코덱이 다름)\n",
    "fourcc = cv2.VideoWriter_fourcc(*'mp4v')\n",
    "out = cv2.VideoWriter('./result/output.mp4', fourcc, fps, size)\n",
    "\n",
    "while True:\n",
    "    ret, frame = inp.read()\n",
    "    if not ret: break\n",
    "\n",
    "    frame = process_frame(frame)   # 앞 절의 처리 파이프라인\n",
    "    out.write(frame)               # 프레임 저장\n",
    "\n",
    "inp.release()\n",
    "out.release()\n",
    "\n",
    "print('저장 완료: output.mp4')"
   ]
  },
  {
   "cell_type": "markdown",
   "id": "4b73f4b4",
   "metadata": {},
   "source": [
    "# 05-04 전체영상 ROI 크롭 저장\n",
    "\n",
    "## ROI 영역 저장"
   ]
  },
  {
   "cell_type": "code",
   "execution_count": 7,
   "id": "b681735f",
   "metadata": {},
   "outputs": [
    {
     "name": "stdout",
     "output_type": "stream",
     "text": [
      "저장 완료: cropped.mp4\n"
     ]
    }
   ],
   "source": [
    "import cv2\n",
    "import numpy as np\n",
    "\n",
    "cap = cv2.VideoCapture('./data/file_example_MP4_640_3MG.mp4', cv2.CAP_FFMPEG)\n",
    "if not cap.isOpened(): cap = cv2.VideoCapture('./data/file_example_MP4_640_3MG.mp4',)\n",
    "if not cap.isOpened(): raise RuntimeError('입력 영상을 열 수 없습니다.')\n",
    "\n",
    "ret, first = cap.read()\n",
    "if not ret: raise RuntimeError('첫 프레임을 읽을 수 없습니다.')\n",
    "\n",
    "# ROI 선택 (드래그) → (x, y, w, h)\n",
    "x, y, w, h = cv2.selectROI('Pick ROI', first, fromCenter=False, showCrosshair=True)\n",
    "cv2.destroyWindow('Pick ROI')\n",
    "if w == 0 or h == 0:\n",
    "    cap.release()\n",
    "    raise SystemExit('ROI를 선택하지 않아 종료합니다')\n",
    "\n",
    "fps = cap.get(cv2.CAP_PROP_FPS) or 30\n",
    "fourcc = cv2.VideoWriter_fourcc(*'mp4v')\n",
    "out = cv2.VideoWriter('./result/cropped.mp4', fourcc, fps, (int(w), int(h)))\n",
    "\n",
    "# 첫 프레임부터 다시 읽기\n",
    "cap.set(cv2.CAP_PROP_POS_FRAMES, 0)\n",
    "\n",
    "while True:\n",
    "    ret, frame = cap.read()\n",
    "    if not ret: break\n",
    "    crop = frame[int(y):int(y+h), int(x):int(x+w)]\n",
    "    out.write(crop)\n",
    "\n",
    "cap.release()\n",
    "out.release()\n",
    "print('저장 완료: cropped.mp4')"
   ]
  },
  {
   "cell_type": "markdown",
   "id": "7940265b",
   "metadata": {},
   "source": [
    "# 05-05 스냅샷 추출\n",
    "\n",
    "## 스냅샷 저장"
   ]
  },
  {
   "cell_type": "code",
   "execution_count": 10,
   "id": "5a125eac",
   "metadata": {},
   "outputs": [
    {
     "name": "stdout",
     "output_type": "stream",
     "text": [
      "썸네일 저장 수: 6\n"
     ]
    }
   ],
   "source": [
    "import cv2, os\n",
    "\n",
    "cap = cv2.VideoCapture('./data/file_example_MP4_640_3MG.mp4', cv2.CAP_FFMPEG)\n",
    "if not cap.isOpened(): cap = cv2.VideoCapture('./data/file_example_MP4_640_3MG.mp4')\n",
    "if not cap.isOpened(): raise RuntimeError('영상을 열 수 없습니다.')\n",
    "\n",
    "fps = cap.get(cv2.CAP_PROP_FPS) or 30\n",
    "interval_sec = 5  # 5초마다\n",
    "frame_gap = int(fps * interval_sec)\n",
    "\n",
    "os.makedirs('./thumbs', exist_ok=True)\n",
    "idx = 0\n",
    "\n",
    "while True:\n",
    "    ret, frame = cap.read()\n",
    "    if not ret: break\n",
    "    pos = int(cap.get(cv2.CAP_PROP_POS_FRAMES))\n",
    "    if pos % frame_gap == 0:\n",
    "        cv2.imwrite(f'./thumbs/frame_{pos:06d}.jpg', frame)\n",
    "        idx += 1\n",
    "\n",
    "cap.release()\n",
    "print(f'썸네일 저장 수: {idx}')"
   ]
  }
 ],
 "metadata": {
  "kernelspec": {
   "display_name": "Python 3",
   "language": "python",
   "name": "python3"
  },
  "language_info": {
   "codemirror_mode": {
    "name": "ipython",
    "version": 3
   },
   "file_extension": ".py",
   "mimetype": "text/x-python",
   "name": "python",
   "nbconvert_exporter": "python",
   "pygments_lexer": "ipython3",
   "version": "3.9.13"
  }
 },
 "nbformat": 4,
 "nbformat_minor": 5
}
