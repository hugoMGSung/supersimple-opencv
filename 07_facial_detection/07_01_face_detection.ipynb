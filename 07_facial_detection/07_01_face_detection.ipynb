{
 "cells": [
  {
   "cell_type": "markdown",
   "id": "8d727080",
   "metadata": {},
   "source": [
    "# 객체 검출과 마스킹\n",
    "\n",
    "## 07-01 얼굴 검출\n"
   ]
  },
  {
   "cell_type": "code",
   "execution_count": 1,
   "id": "503e431c",
   "metadata": {},
   "outputs": [],
   "source": [
    "import cv2\n",
    "\n",
    "# Haar Cascade 로드\n",
    "face_cascade = cv2.CascadeClassifier(cv2.data.haarcascades +\n",
    "                                     'haarcascade_frontalface_default.xml')\n",
    "\n",
    "cap = cv2.VideoCapture(0)\n",
    "\n",
    "while True:\n",
    "    ret, frame = cap.read()\n",
    "    if not ret: break\n",
    "\n",
    "    gray = cv2.cvtColor(frame, cv2.COLOR_BGR2GRAY)\n",
    "\n",
    "    # 얼굴 검출 (scaleFactor=1.1, minNeighbors=5 권장)\n",
    "    faces = face_cascade.detectMultiScale(gray, 1.1, 5)\n",
    "\n",
    "    for (x, y, w, h) in faces:\n",
    "        cv2.rectangle(frame, (x, y), (x+w, y+h), (0, 255, 0), 2)\n",
    "\n",
    "    cv2.imshow('Face Detection (q=quit)', frame)\n",
    "    if cv2.waitKey(1) & 0xFF == ord('q'): break\n",
    "\n",
    "cap.release()\n",
    "cv2.destroyAllWindows()\n"
   ]
  },
  {
   "cell_type": "markdown",
   "id": "72c4be88",
   "metadata": {},
   "source": [
    "## 07-02 ROI 모자이크 처리 (얼굴 블러/픽셀화)"
   ]
  },
  {
   "cell_type": "code",
   "execution_count": 2,
   "id": "1b4bdd9b",
   "metadata": {},
   "outputs": [],
   "source": [
    "import cv2\n",
    "\n",
    "face_cascade = cv2.CascadeClassifier(cv2.data.haarcascades +\n",
    "                                     'haarcascade_frontalface_default.xml')\n",
    "\n",
    "cap = cv2.VideoCapture(0)\n",
    "\n",
    "while True:\n",
    "    ret, frame = cap.read()\n",
    "    if not ret: break\n",
    "\n",
    "    gray = cv2.cvtColor(frame, cv2.COLOR_BGR2GRAY)\n",
    "    faces = face_cascade.detectMultiScale(gray, 1.1, 5)\n",
    "\n",
    "    for (x, y, w, h) in faces:\n",
    "        roi = frame[y:y+h, x:x+w]\n",
    "\n",
    "        # --- 모자이크 처리 ---\n",
    "        small = cv2.resize(roi, (w//15, h//15), interpolation=cv2.INTER_LINEAR)\n",
    "        mosaic = cv2.resize(small, (w, h), interpolation=cv2.INTER_NEAREST)\n",
    "\n",
    "        frame[y:y+h, x:x+w] = mosaic  # ROI 교체\n",
    "\n",
    "    cv2.imshow('Face Mosaic (q=quit)', frame)\n",
    "    if cv2.waitKey(1) & 0xFF == ord('q'): break\n",
    "\n",
    "cap.release()\n",
    "cv2.destroyAllWindows()\n"
   ]
  },
  {
   "cell_type": "markdown",
   "id": "fd70c6b8",
   "metadata": {},
   "source": [
    "## 07-03 HSV 색상 마스크"
   ]
  },
  {
   "cell_type": "code",
   "execution_count": 4,
   "id": "acc5ffb4",
   "metadata": {},
   "outputs": [],
   "source": [
    "import cv2\n",
    "import numpy as np\n",
    "\n",
    "cap = cv2.VideoCapture(0)\n",
    "\n",
    "while True:\n",
    "    ret, frame = cap.read()\n",
    "    if not ret: break\n",
    "\n",
    "    hsv = cv2.cvtColor(frame, cv2.COLOR_BGR2HSV)\n",
    "\n",
    "    # 빨강색 범위 정의 (두 구간 필요)\n",
    "    lower_red1 = np.array([0, 120, 70])\n",
    "    upper_red1 = np.array([10, 255, 255])\n",
    "    lower_red2 = np.array([170, 120, 70])\n",
    "    upper_red2 = np.array([180, 255, 255])\n",
    "\n",
    "    mask1 = cv2.inRange(hsv, lower_red1, upper_red1)\n",
    "    mask2 = cv2.inRange(hsv, lower_red2, upper_red2)\n",
    "    mask = mask1 | mask2\n",
    "\n",
    "    # 마스크 적용\n",
    "    result = cv2.bitwise_and(frame, frame, mask=mask)\n",
    "\n",
    "    cv2.imshow(\"Original\", frame)\n",
    "    cv2.imshow(\"Red Masked\", result)\n",
    "\n",
    "    if cv2.waitKey(1) & 0xFF == ord('q'): break\n",
    "\n",
    "cap.release()\n",
    "cv2.destroyAllWindows()\n"
   ]
  }
 ],
 "metadata": {
  "kernelspec": {
   "display_name": "Python 3",
   "language": "python",
   "name": "python3"
  },
  "language_info": {
   "codemirror_mode": {
    "name": "ipython",
    "version": 3
   },
   "file_extension": ".py",
   "mimetype": "text/x-python",
   "name": "python",
   "nbconvert_exporter": "python",
   "pygments_lexer": "ipython3",
   "version": "3.9.13"
  }
 },
 "nbformat": 4,
 "nbformat_minor": 5
}
