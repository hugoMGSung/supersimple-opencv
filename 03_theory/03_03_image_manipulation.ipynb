{
 "cells": [
  {
   "cell_type": "markdown",
   "id": "0d7fb88e",
   "metadata": {},
   "source": [
    "# 이미지 처리 추가\n",
    "\n",
    "## 추가 방법\n",
    "\n",
    "### 라이브러리 로드"
   ]
  },
  {
   "cell_type": "code",
   "execution_count": 1,
   "id": "c054f27c",
   "metadata": {},
   "outputs": [],
   "source": [
    "import cv2\n",
    "import numpy as np"
   ]
  },
  {
   "cell_type": "markdown",
   "id": "98a81edd",
   "metadata": {},
   "source": [
    "### 고양이 부르기"
   ]
  },
  {
   "cell_type": "code",
   "execution_count": 3,
   "id": "6de0a7d2",
   "metadata": {},
   "outputs": [],
   "source": [
    "cat1 = cv2.imread('./data/cat01.jpg', cv2.IMREAD_COLOR)\n",
    "cat2 = cv2.imread('./data/cat02.jpg', cv2.IMREAD_COLOR)"
   ]
  },
  {
   "cell_type": "markdown",
   "id": "ccb3c6cb",
   "metadata": {},
   "source": [
    "### 투명도 합성"
   ]
  },
  {
   "cell_type": "code",
   "execution_count": 4,
   "id": "2be42af2",
   "metadata": {},
   "outputs": [],
   "source": [
    "# 두 이미지를 50:50 합성\n",
    "blended = cv2.addWeighted(cat1, 0.5, cat2, 0.5, 0)\n",
    "\n",
    "cv2.imshow('Transparency Blending', blended)\n",
    "cv2.waitKey(0)\n",
    "cv2.destroyAllWindows()"
   ]
  },
  {
   "cell_type": "markdown",
   "id": "e60f1883",
   "metadata": {},
   "source": [
    "<img src='../images/result047.jpg' width='650'>"
   ]
  },
  {
   "cell_type": "markdown",
   "id": "55738427",
   "metadata": {},
   "source": [
    "### 이미지 블렌딩 + 워터마크"
   ]
  },
  {
   "cell_type": "code",
   "execution_count": 16,
   "id": "478f5804",
   "metadata": {},
   "outputs": [],
   "source": [
    "# 원본 이미지\n",
    "cat = cv2.imread('./data/cat02.jpg', cv2.IMREAD_COLOR)"
   ]
  },
  {
   "cell_type": "code",
   "execution_count": 10,
   "id": "fae781be",
   "metadata": {},
   "outputs": [
    {
     "data": {
      "text/plain": [
       "array([[[  9,  11,  21],\n",
       "        [  3,   6,  14],\n",
       "        [  0,   5,  10],\n",
       "        ...,\n",
       "        [ 59,  94, 120],\n",
       "        [ 95, 132, 160],\n",
       "        [ 69, 107, 137]],\n",
       "\n",
       "       [[ 15,  17,  28],\n",
       "        [  5,   7,  17],\n",
       "        [  0,   3,  10],\n",
       "        ...,\n",
       "        [ 64,  99, 125],\n",
       "        [ 82, 119, 147],\n",
       "        [ 72, 110, 140]],\n",
       "\n",
       "       [[ 15,  17,  35],\n",
       "        [  2,   5,  20],\n",
       "        [  0,   1,  10],\n",
       "        ...,\n",
       "        [ 35,  72,  98],\n",
       "        [ 94, 133, 161],\n",
       "        [ 67, 107, 136]],\n",
       "\n",
       "       ...,\n",
       "\n",
       "       [[ 78, 110, 133],\n",
       "        [ 42,  73,  96],\n",
       "        [ 51,  79, 103],\n",
       "        ...,\n",
       "        [105, 158, 195],\n",
       "        [111, 164, 201],\n",
       "        [ 85, 140, 177]],\n",
       "\n",
       "       [[105, 137, 160],\n",
       "        [ 81, 113, 136],\n",
       "        [ 83, 114, 137],\n",
       "        ...,\n",
       "        [ 53, 106, 143],\n",
       "        [110, 165, 202],\n",
       "        [ 91, 146, 183]],\n",
       "\n",
       "       [[ 68, 101, 121],\n",
       "        [ 48,  81, 101],\n",
       "        [ 41,  73,  96],\n",
       "        ...,\n",
       "        [ 80, 134, 169],\n",
       "        [ 93, 149, 184],\n",
       "        [102, 160, 195]]], dtype=uint8)"
      ]
     },
     "execution_count": 10,
     "metadata": {},
     "output_type": "execute_result"
    }
   ],
   "source": [
    "# 워터마크로 쓸 반투명 사각형\n",
    "overlay = cat.copy()\n",
    "cv2.rectangle(overlay, (50, 200), (450, 280), (0, 0, 0), -1)\n",
    "\n",
    "# addWeighted로 투명 워터마크 합성\n",
    "watermarked = cv2.addWeighted(overlay, 0.3, cat, 0.7, 0)\n",
    "\n",
    "# 텍스트 워터마크\n",
    "cv2.putText(watermarked, 'Sleeping Kitty', (60, 260),\n",
    "            cv2.FONT_HERSHEY_SIMPLEX, 1, (255, 255, 255), 2)"
   ]
  },
  {
   "cell_type": "code",
   "execution_count": 11,
   "id": "479ae9f0",
   "metadata": {},
   "outputs": [],
   "source": [
    "cv2.imshow('Watermarked Image', watermarked)\n",
    "cv2.waitKey(0)\n",
    "cv2.destroyAllWindows()"
   ]
  },
  {
   "cell_type": "markdown",
   "id": "7b16dc02",
   "metadata": {},
   "source": [
    "<img src='../images/result048.jpg' width='650'>"
   ]
  },
  {
   "cell_type": "markdown",
   "id": "699b78c1",
   "metadata": {},
   "source": [
    "## 이진화"
   ]
  },
  {
   "cell_type": "code",
   "execution_count": 25,
   "id": "a32d8026",
   "metadata": {},
   "outputs": [],
   "source": [
    "# 워터마크로 쓸 반투명 사각형\n",
    "copy = cat.copy()\n",
    "\n",
    "# 2. 그레이스케일 변환\n",
    "gray = cv2.cvtColor(copy, cv2.COLOR_BGR2GRAY)\n",
    "\n",
    "# 이진화 적용\n",
    "_, th_binary = cv2.threshold(gray, 127, 255, cv2.THRESH_BINARY)\n",
    "_, th_inv    = cv2.threshold(gray, 127, 255, cv2.THRESH_BINARY_INV)\n",
    "\n",
    "# 단일 채널 이미지를 컬러(BGR)로 변환해야 합칠 수 있음\n",
    "gray_color     = cv2.cvtColor(gray, cv2.COLOR_GRAY2BGR)\n",
    "binary_color   = cv2.cvtColor(th_binary, cv2.COLOR_GRAY2BGR)\n",
    "inv_color      = cv2.cvtColor(th_inv, cv2.COLOR_GRAY2BGR)\n",
    "\n",
    "# 세로 방향으로 합치기\n",
    "stacked = cv2.vconcat([binary_color, inv_color])\n",
    "\n",
    "cv2.imshow('original', gray_color)\n",
    "cv2.imshow('Result', stacked)\n",
    "cv2.waitKey(0)\n",
    "cv2.destroyAllWindows()"
   ]
  },
  {
   "cell_type": "markdown",
   "id": "258d6670",
   "metadata": {},
   "source": [
    "<img src='../images/result049.jpg' width='650'>"
   ]
  },
  {
   "cell_type": "markdown",
   "id": "799421c5",
   "metadata": {},
   "source": [
    "<img src='../images/result050.jpg' width='650'>"
   ]
  },
  {
   "cell_type": "markdown",
   "id": "95babea3",
   "metadata": {},
   "source": [
    "## 마스크"
   ]
  },
  {
   "cell_type": "code",
   "execution_count": 26,
   "id": "dbfccfc9",
   "metadata": {},
   "outputs": [
    {
     "data": {
      "text/plain": [
       "True"
      ]
     },
     "execution_count": 26,
     "metadata": {},
     "output_type": "execute_result"
    }
   ],
   "source": [
    "# 1) 이미지 불러오기\n",
    "img = cv2.imread('./data/cat02.jpg', cv2.IMREAD_COLOR)\n",
    "if img is None:\n",
    "    raise FileNotFoundError('이미지를 불러올 수 없습니다.')\n",
    "\n",
    "h, w = img.shape[:2]\n",
    "\n",
    "# 2) 마스크 이미지 생성 (검은색 배경)\n",
    "mask = np.zeros((h, w), dtype=np.uint8)\n",
    "\n",
    "# 3) 텍스트로 \"MASK\" 작성\n",
    "cv2.putText(mask, 'MASK', (w//4, h//2),\n",
    "            cv2.FONT_HERSHEY_SIMPLEX, 5, 255, 20, cv2.LINE_AA)\n",
    "\n",
    "# 4) 마스크 적용 (흰 부분만 남김)\n",
    "masked_fg = cv2.bitwise_and(img, img, mask=mask)\n",
    "\n",
    "# 5) 배경(회색) 준비\n",
    "background = np.full_like(img, (180, 180, 180))\n",
    "mask_inv = cv2.bitwise_not(mask)\n",
    "bg_part = cv2.bitwise_and(background, background, mask=mask_inv)\n",
    "\n",
    "# 6) 최종 합성\n",
    "result = cv2.add(masked_fg, bg_part)\n",
    "\n",
    "# 7) 비교 출력\n",
    "row1 = cv2.hconcat([img, cv2.cvtColor(mask, cv2.COLOR_GRAY2BGR)])\n",
    "row2 = cv2.hconcat([masked_fg, result])\n",
    "montage = cv2.vconcat([row1, row2])\n",
    "\n",
    "cv2.imshow('Original | Mask / Foreground | Result', montage)\n",
    "cv2.waitKey(0)\n",
    "cv2.destroyAllWindows()\n",
    "\n",
    "# (선택) 저장\n",
    "cv2.imwrite('./result/mask_text_demo.jpg', montage)"
   ]
  },
  {
   "cell_type": "markdown",
   "id": "fa140e86",
   "metadata": {},
   "source": [
    "<img src=\"../images/result051.jpg\" width=\"700\">"
   ]
  }
 ],
 "metadata": {
  "kernelspec": {
   "display_name": "Python 3",
   "language": "python",
   "name": "python3"
  },
  "language_info": {
   "codemirror_mode": {
    "name": "ipython",
    "version": 3
   },
   "file_extension": ".py",
   "mimetype": "text/x-python",
   "name": "python",
   "nbconvert_exporter": "python",
   "pygments_lexer": "ipython3",
   "version": "3.9.13"
  }
 },
 "nbformat": 4,
 "nbformat_minor": 5
}
