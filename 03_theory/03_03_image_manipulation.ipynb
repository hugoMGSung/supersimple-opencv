{
 "cells": [
  {
   "cell_type": "markdown",
   "id": "0d7fb88e",
   "metadata": {},
   "source": [
    "# 이미지 처리 추가\n",
    "\n",
    "## 이미지 읽기\n",
    "\n",
    "### 라이브러리 로드"
   ]
  },
  {
   "cell_type": "code",
   "execution_count": 1,
   "id": "c054f27c",
   "metadata": {},
   "outputs": [],
   "source": [
    "import cv2\n",
    "import numpy as np"
   ]
  },
  {
   "cell_type": "markdown",
   "id": "98a81edd",
   "metadata": {},
   "source": [
    "### 고양이 부르기"
   ]
  },
  {
   "cell_type": "code",
   "execution_count": 4,
   "id": "6de0a7d2",
   "metadata": {},
   "outputs": [],
   "source": [
    "cat = cv2.imread('./data/cat01.jpg', cv2.IMREAD_COLOR)"
   ]
  }
 ],
 "metadata": {
  "kernelspec": {
   "display_name": "Python 3",
   "language": "python",
   "name": "python3"
  },
  "language_info": {
   "codemirror_mode": {
    "name": "ipython",
    "version": 3
   },
   "file_extension": ".py",
   "mimetype": "text/x-python",
   "name": "python",
   "nbconvert_exporter": "python",
   "pygments_lexer": "ipython3",
   "version": "3.9.13"
  }
 },
 "nbformat": 4,
 "nbformat_minor": 5
}
