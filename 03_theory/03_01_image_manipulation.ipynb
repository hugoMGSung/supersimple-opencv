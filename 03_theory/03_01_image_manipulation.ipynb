{
 "cells": [
  {
   "cell_type": "markdown",
   "id": "0d7fb88e",
   "metadata": {},
   "source": [
    "# 이미지 처리 이론\n",
    "\n",
    "## 이미지 생성 및 저장\n",
    "\n",
    "### 라이브러리 로드"
   ]
  },
  {
   "cell_type": "code",
   "execution_count": 1,
   "id": "c054f27c",
   "metadata": {},
   "outputs": [],
   "source": [
    "import cv2\n",
    "import numpy as np"
   ]
  },
  {
   "cell_type": "markdown",
   "id": "6e5eaf79",
   "metadata": {},
   "source": [
    "#### 넘파이로 이미지 배열 생성\n"
   ]
  },
  {
   "cell_type": "code",
   "execution_count": null,
   "id": "b84426b6",
   "metadata": {},
   "outputs": [
    {
     "name": "stdout",
     "output_type": "stream",
     "text": [
      "이미지 저장 완료: red_image.jpg\n"
     ]
    }
   ],
   "source": [
    "#### 빨간색 이미지 512x512로 생성하고 저장\n",
    "# 512x512 크기의 빨간색 이미지 만들기 (BGR 포맷)\n",
    "img = np.zeros((512, 512, 3), dtype=np.uint8)\n",
    "img[:] = (0, 0, 255)  # B=0, G=0, R=255 → 빨강\n",
    "\n",
    "# 이미지 저장\n",
    "cv2.imwrite('./result/red_image.jpg', img)   # result 폴더는 미리 만들어 두세요. 자동 폴더 생성은 귀찮아서...^^\n",
    "print('이미지 저장 완료: red_image.jpg')"
   ]
  },
  {
   "cell_type": "markdown",
   "id": "f2405a03",
   "metadata": {},
   "source": [
    "#### 실행결과\n",
    "\n",
    "<img src=\"./result/red_image.jpg\" width=\"300\">"
   ]
  },
  {
   "cell_type": "markdown",
   "id": "36a80891",
   "metadata": {},
   "source": [
    "### 이미지 읽기"
   ]
  },
  {
   "cell_type": "code",
   "execution_count": null,
   "id": "3a147c80",
   "metadata": {},
   "outputs": [
    {
     "name": "stdout",
     "output_type": "stream",
     "text": [
      "컬러 이미지 크기: (512, 512, 3)\n",
      "그레이스케일 이미지 크기: (512, 512)\n"
     ]
    }
   ],
   "source": [
    "# 컬러로 읽기\n",
    "img_color = cv2.imread('./result/red_image.jpg', cv2.IMREAD_COLOR)\n",
    "\n",
    "# 흑백으로 읽기\n",
    "img_gray = cv2.imread('./result/red_image.jpg', cv2.IMREAD_GRAYSCALE | cv2.IMREAD)\n",
    "\n",
    "print('컬러 이미지 크기:', img_color.shape)\n",
    "print('그레이스케일 이미지 크기:', img_gray.shape)"
   ]
  },
  {
   "cell_type": "markdown",
   "id": "d8dc9992",
   "metadata": {},
   "source": [
    "### 이미지 보이기"
   ]
  },
  {
   "cell_type": "code",
   "execution_count": 5,
   "id": "eb31d4e9",
   "metadata": {},
   "outputs": [],
   "source": [
    "# 이미지 읽기\n",
    "img = cv2.imread('./result/red_image.jpg')\n",
    "\n",
    "# 이미지 창에 표시\n",
    "cv2.imshow('Red Image', img)\n",
    "\n",
    "# 키 입력 대기 (0은 무한 대기)\n",
    "cv2.waitKey(0)\n",
    "\n",
    "# 모든 창 닫기\n",
    "cv2.destroyAllWindows()"
   ]
  },
  {
   "cell_type": "markdown",
   "id": "9bb229eb",
   "metadata": {},
   "source": [
    "#### 실행결과\n",
    "\n",
    "<img src=\"../images/result004.png\" width=\"300\">"
   ]
  },
  {
   "cell_type": "markdown",
   "id": "81085d28",
   "metadata": {},
   "source": [
    "### 이미지 속성\n",
    "\n",
    "#### 라이브러리 로드"
   ]
  },
  {
   "cell_type": "code",
   "execution_count": 11,
   "id": "7059407e",
   "metadata": {},
   "outputs": [],
   "source": [
    "# 이미 위에 있지만 다시 불러도 상관없음\n",
    "import cv2\n",
    "import numpy as np"
   ]
  },
  {
   "cell_type": "code",
   "execution_count": 12,
   "id": "7bd9b51f",
   "metadata": {},
   "outputs": [
    {
     "name": "stdout",
     "output_type": "stream",
     "text": [
      "이미지 크기 (행, 열, 채널): (300, 400, 3)\n",
      "이미지 데이터 타입: uint8\n"
     ]
    }
   ],
   "source": [
    "# 1. 300x400 크기의 파란색 이미지 생성 (BGR)\n",
    "img = np.zeros((300, 400, 3), dtype=np.uint8)\n",
    "img[:] = (255, 0, 0)  # 파랑 (B=255, G=0, R=0)\n",
    "\n",
    "# 2. 이미지 속성 확인\n",
    "print('이미지 크기 (행, 열, 채널):', img.shape)  # (300, 400, 3)\n",
    "print('이미지 데이터 타입:', img.dtype)          # uint8"
   ]
  },
  {
   "cell_type": "markdown",
   "id": "4fa8c819",
   "metadata": {},
   "source": [
    "#### 특정위치 픽셀 값 읽기와 변경하기\n"
   ]
  },
  {
   "cell_type": "code",
   "execution_count": 13,
   "id": "26cce7cb",
   "metadata": {},
   "outputs": [
    {
     "name": "stdout",
     "output_type": "stream",
     "text": [
      "픽셀 값(BGR): [255   0   0]\n"
     ]
    }
   ],
   "source": [
    "# 3. 특정 픽셀 값 읽기 (y=50, x=100 위치)\n",
    "pixel_value = img[50, 100]\n",
    "print('픽셀 값(BGR):', pixel_value)  # [255   0   0] → 파랑\n",
    "\n",
    "# 4. 특정 픽셀 값 변경 (빨강으로 변경)\n",
    "img[50, 100] = (0, 0, 255)\n",
    "\n",
    "# 5. ROI(영역) 변경: 왼쪽 위 50x50 영역을 초록색으로\n",
    "img[0:50, 0:50] = (0, 255, 0)"
   ]
  },
  {
   "cell_type": "markdown",
   "id": "251c1e33",
   "metadata": {},
   "source": [
    "#### 변경값 표시해보기"
   ]
  },
  {
   "cell_type": "code",
   "execution_count": 14,
   "id": "92c92604",
   "metadata": {},
   "outputs": [],
   "source": [
    "# 6. 결과 표시\n",
    "cv2.imshow('Image Manipulation', img)\n",
    "cv2.waitKey(0)\n",
    "cv2.destroyAllWindows()"
   ]
  },
  {
   "cell_type": "markdown",
   "id": "bf8d26a3",
   "metadata": {},
   "source": [
    "#### 실행결과\n",
    "\n",
    "<img src=\"../images/result005.png\" width=\"400\">"
   ]
  },
  {
   "cell_type": "markdown",
   "id": "c67b0ee0",
   "metadata": {},
   "source": [
    "#### 고양이 이미지 속성확인\n"
   ]
  },
  {
   "cell_type": "code",
   "execution_count": 59,
   "id": "39511cb1",
   "metadata": {},
   "outputs": [
    {
     "name": "stdout",
     "output_type": "stream",
     "text": [
      "고양이 이미지 크기 (행, 열, 채널): (457, 800, 3)\n",
      "고양이 이미지 데이터 타입: uint8\n"
     ]
    }
   ],
   "source": [
    "cat = cv2.imread('./data/cat01.jpg', cv2.IMREAD_COLOR)\n",
    "\n",
    "print('고양이 이미지 크기 (행, 열, 채널):', cat.shape)\n",
    "print('고양이 이미지 데이터 타입:', cat.dtype)"
   ]
  },
  {
   "cell_type": "markdown",
   "id": "d98dca99",
   "metadata": {},
   "source": [
    "#### ROI로 이미지 값 변경\n"
   ]
  },
  {
   "cell_type": "code",
   "execution_count": 61,
   "id": "af255e8d",
   "metadata": {},
   "outputs": [],
   "source": [
    "cat = cv2.imread('./data/cat01.jpg', cv2.IMREAD_COLOR)\n",
    "\n",
    "# 5. ROI(영역) 변경: 눈을 가려줘~\n",
    "roi = cat[168:168 + 35, 318:318 + 192]\n",
    "roi[:] = (10, 10, 10)\n",
    "\n",
    "\n",
    "# cv2.rectangle(cat, (30, 0), (192, 50), (0, 255, 255), 2)\n",
    "\n",
    "cv2.imshow('Cat Image Manipulation', cat)\n",
    "cv2.waitKey(0)\n",
    "cv2.destroyAllWindows()"
   ]
  },
  {
   "cell_type": "markdown",
   "id": "8acfb40f",
   "metadata": {},
   "source": [
    "#### 실행결과\n",
    "\n",
    "<img src=\"../images/result006.png\">"
   ]
  },
  {
   "cell_type": "markdown",
   "id": "99516ad3",
   "metadata": {},
   "source": [
    "## 색상 변환"
   ]
  },
  {
   "cell_type": "markdown",
   "id": "e9157808",
   "metadata": {},
   "source": [
    "### 라이브러리 로드"
   ]
  },
  {
   "cell_type": "code",
   "execution_count": 62,
   "id": "b0af65ac",
   "metadata": {},
   "outputs": [],
   "source": [
    "import cv2\n",
    "import numpy as np"
   ]
  },
  {
   "cell_type": "markdown",
   "id": "98a81edd",
   "metadata": {},
   "source": [
    "### 고양이 부르기"
   ]
  },
  {
   "cell_type": "code",
   "execution_count": 65,
   "id": "6de0a7d2",
   "metadata": {},
   "outputs": [],
   "source": [
    "cat = cv2.imread('./data/cat01.jpg', cv2.IMREAD_COLOR)"
   ]
  },
  {
   "cell_type": "markdown",
   "id": "060d5761",
   "metadata": {},
   "source": [
    "### 흑백변환\n",
    "\n",
    "- 정확히는 그레이스케일"
   ]
  },
  {
   "cell_type": "code",
   "execution_count": 66,
   "id": "d5578d6d",
   "metadata": {},
   "outputs": [],
   "source": [
    "gray = cv2.cvtColor(cat, cv2.COLOR_BGR2GRAY)\n",
    "\n",
    "cv2.imshow('Image Manipulation', gray)\n",
    "cv2.waitKey(0)\n",
    "cv2.destroyAllWindows()"
   ]
  },
  {
   "cell_type": "markdown",
   "id": "78704619",
   "metadata": {},
   "source": [
    "#### 실행결과\n",
    "\n",
    "<img src=\"../images/result007.png\" width=\"650\">"
   ]
  },
  {
   "cell_type": "markdown",
   "id": "5a592a8f",
   "metadata": {},
   "source": [
    "### BGR -> HSV 변환\n"
   ]
  },
  {
   "cell_type": "code",
   "execution_count": 68,
   "id": "55d0b1fa",
   "metadata": {},
   "outputs": [],
   "source": [
    "hsv = cv2.cvtColor(cat, cv2.COLOR_BGR2HSV)\n",
    "\n",
    "cv2.imshow('Image Manipulation', hsv)\n",
    "cv2.waitKey(0)\n",
    "cv2.destroyAllWindows()"
   ]
  },
  {
   "cell_type": "markdown",
   "id": "e98eda4f",
   "metadata": {},
   "source": [
    "#### 실행 결과\n",
    "\n",
    "<img src=\"../images/result008.png\" width=\"650\">"
   ]
  },
  {
   "cell_type": "markdown",
   "id": "774c3cf0",
   "metadata": {},
   "source": [
    "### BGR 분리"
   ]
  },
  {
   "cell_type": "code",
   "execution_count": 69,
   "id": "ed6f2dde",
   "metadata": {},
   "outputs": [],
   "source": [
    "b, g, r = cv2.split(cat)\n",
    "\n",
    "# 단일 채널을 컬러처럼 시각화 (Blue/Green/Red로 올려보기)\n",
    "blue_vis  = cv2.merge([b, np.zeros_like(b), np.zeros_like(b)])\n",
    "green_vis = cv2.merge([np.zeros_like(g), g, np.zeros_like(g)])\n",
    "red_vis   = cv2.merge([np.zeros_like(r), np.zeros_like(r), r])"
   ]
  },
  {
   "cell_type": "code",
   "execution_count": 74,
   "id": "fc775401",
   "metadata": {},
   "outputs": [],
   "source": [
    "cv2.imshow('Image Manipulation', blue_vis)\n",
    "cv2.waitKey(0)\n",
    "cv2.destroyAllWindows()"
   ]
  },
  {
   "cell_type": "markdown",
   "id": "7c51d62d",
   "metadata": {},
   "source": [
    "#### 실행결과\n",
    "\n",
    "<img src=\"../images/result009.png\" width=\"650\">"
   ]
  },
  {
   "cell_type": "code",
   "execution_count": 76,
   "id": "65ee03c2",
   "metadata": {},
   "outputs": [],
   "source": [
    "cv2.imshow('Image Manipulation', green_vis)\n",
    "cv2.waitKey(0)\n",
    "cv2.destroyAllWindows()"
   ]
  },
  {
   "cell_type": "markdown",
   "id": "a055573d",
   "metadata": {},
   "source": [
    "#### 실행결과\n",
    "\n",
    "<img src=\"../images/result010.png\" width=\"650\">"
   ]
  },
  {
   "cell_type": "code",
   "execution_count": 77,
   "id": "3506c601",
   "metadata": {},
   "outputs": [],
   "source": [
    "cv2.imshow('Image Manipulation', red_vis)\n",
    "cv2.waitKey(0)\n",
    "cv2.destroyAllWindows()"
   ]
  },
  {
   "cell_type": "markdown",
   "id": "737efe79",
   "metadata": {},
   "source": [
    "#### 실행결과\n",
    "\n",
    "<img src=\"../images/result011.png\" width=\"650\">"
   ]
  },
  {
   "cell_type": "markdown",
   "id": "c12451bc",
   "metadata": {},
   "source": [
    "### RGB로 변환"
   ]
  },
  {
   "cell_type": "code",
   "execution_count": 78,
   "id": "431febe6",
   "metadata": {},
   "outputs": [],
   "source": [
    "rgb = cv2.cvtColor(cat, cv2.COLOR_BGR2RGB)\n",
    "\n",
    "cv2.imshow('Image Manipulation', rgb)\n",
    "cv2.waitKey(0)\n",
    "cv2.destroyAllWindows()"
   ]
  },
  {
   "cell_type": "markdown",
   "id": "85db8c8f",
   "metadata": {},
   "source": [
    "#### 실행결과\n",
    "\n",
    "<img src=\"../images/result012.png\" width=\"650\">"
   ]
  }
 ],
 "metadata": {
  "kernelspec": {
   "display_name": "Python 3",
   "language": "python",
   "name": "python3"
  },
  "language_info": {
   "codemirror_mode": {
    "name": "ipython",
    "version": 3
   },
   "file_extension": ".py",
   "mimetype": "text/x-python",
   "name": "python",
   "nbconvert_exporter": "python",
   "pygments_lexer": "ipython3",
   "version": "3.9.13"
  }
 },
 "nbformat": 4,
 "nbformat_minor": 5
}
