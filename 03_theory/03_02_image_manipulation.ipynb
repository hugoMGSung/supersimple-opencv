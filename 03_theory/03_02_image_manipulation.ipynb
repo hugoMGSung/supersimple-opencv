{
 "cells": [
  {
   "cell_type": "markdown",
   "id": "0d7fb88e",
   "metadata": {},
   "source": [
    "# 이미지 처리 이론 2\n",
    "\n",
    "## 이미지 읽기\n",
    "\n",
    "### 라이브러리 로드"
   ]
  },
  {
   "cell_type": "code",
   "execution_count": 1,
   "id": "c054f27c",
   "metadata": {},
   "outputs": [],
   "source": [
    "import cv2\n",
    "import numpy as np"
   ]
  },
  {
   "cell_type": "markdown",
   "id": "99516ad3",
   "metadata": {},
   "source": [
    "## 직선 그리기"
   ]
  },
  {
   "cell_type": "markdown",
   "id": "98a81edd",
   "metadata": {},
   "source": [
    "### 고양이 부르기"
   ]
  },
  {
   "cell_type": "code",
   "execution_count": 4,
   "id": "6de0a7d2",
   "metadata": {},
   "outputs": [],
   "source": [
    "cat = cv2.imread('./data/cat01.jpg', cv2.IMREAD_COLOR)"
   ]
  },
  {
   "cell_type": "markdown",
   "id": "50880bec",
   "metadata": {},
   "source": [
    "### 직선 그리기"
   ]
  },
  {
   "cell_type": "code",
   "execution_count": null,
   "id": "d9d1594b",
   "metadata": {},
   "outputs": [],
   "source": [
    "# 기본 빨간 직선 (두께 2)\n",
    "cv2.line(cat, (40, 60), (300, 60), (0, 0, 255), thickness=2)\n",
    "\n",
    "cv2.imshow('Image Manipulation', cat)\n",
    "cv2.waitKey(0)\n",
    "cv2.destroyAllWindows()"
   ]
  },
  {
   "cell_type": "markdown",
   "id": "d7fed71f",
   "metadata": {},
   "source": [
    "<img src=\"../images/result023.png\" width=\"650\">"
   ]
  },
  {
   "cell_type": "code",
   "execution_count": 6,
   "id": "edad1fc5",
   "metadata": {},
   "outputs": [],
   "source": [
    "# 파란 사선 (두께 3)\n",
    "cv2.line(cat, (40, 100), (300, 160), (255, 0, 0), thickness=3)\n",
    "\n",
    "cv2.imshow('Image Manipulation', cat)\n",
    "cv2.waitKey(0)\n",
    "cv2.destroyAllWindows()"
   ]
  },
  {
   "cell_type": "markdown",
   "id": "b93aebec",
   "metadata": {},
   "source": [
    "<img src=\"../images/result024.webp\" width=\"650\">"
   ]
  },
  {
   "cell_type": "markdown",
   "id": "1b4dba12",
   "metadata": {},
   "source": [
    "### 고양이 이미지 다시 부르고"
   ]
  },
  {
   "cell_type": "code",
   "execution_count": 7,
   "id": "43b32267",
   "metadata": {},
   "outputs": [],
   "source": [
    "cat = cv2.imread('./data/cat01.jpg', cv2.IMREAD_COLOR)"
   ]
  },
  {
   "cell_type": "code",
   "execution_count": 8,
   "id": "7a915884",
   "metadata": {},
   "outputs": [],
   "source": [
    "# 계단현상 없는 파란 사선 (두께 3)\n",
    "cv2.line(cat, (40, 100), (300, 160), (255, 0, 0), thickness=3, lineType=cv2.LINE_AA)\n",
    "\n",
    "cv2.imshow('Image Manipulation', cat)\n",
    "cv2.waitKey(0)\n",
    "cv2.destroyAllWindows()"
   ]
  },
  {
   "cell_type": "markdown",
   "id": "21dbff48",
   "metadata": {},
   "source": [
    "<img src=\"../images/result026.webp\" width=\"650\">"
   ]
  },
  {
   "cell_type": "markdown",
   "id": "74b0e7d4",
   "metadata": {},
   "source": [
    "### 사각형 그리기"
   ]
  },
  {
   "cell_type": "code",
   "execution_count": 12,
   "id": "29fd7a7b",
   "metadata": {},
   "outputs": [],
   "source": [
    "cat = cv2.imread('./data/cat01.jpg', cv2.IMREAD_COLOR)"
   ]
  },
  {
   "cell_type": "code",
   "execution_count": 13,
   "id": "5507496a",
   "metadata": {},
   "outputs": [],
   "source": [
    "cv2.rectangle(cat, (300, 122), (530, 290), (218, 246, 251), thickness=10)\n",
    "\n",
    "cv2.imshow('Image Manipulation', cat)\n",
    "cv2.waitKey(0)\n",
    "cv2.destroyAllWindows()"
   ]
  },
  {
   "cell_type": "markdown",
   "id": "defc7a32",
   "metadata": {},
   "source": [
    "<img src=\"../images/result028.jpg\" width=\"650\">"
   ]
  },
  {
   "cell_type": "code",
   "execution_count": 15,
   "id": "df48d0b1",
   "metadata": {},
   "outputs": [],
   "source": [
    "# 꽉 채우기\n",
    "cv2.rectangle(cat, (300, 122), (530, 290), (218, 246, 251), thickness=-1)\n",
    "\n",
    "cv2.imshow('Image Manipulation', cat)\n",
    "cv2.waitKey(0)\n",
    "cv2.destroyAllWindows()"
   ]
  },
  {
   "cell_type": "markdown",
   "id": "aab5f071",
   "metadata": {},
   "source": [
    "<img src=\"../images/result029.jpg\" width=\"650\">"
   ]
  },
  {
   "cell_type": "markdown",
   "id": "2f9e63aa",
   "metadata": {},
   "source": [
    "### 원/타원 그리기"
   ]
  },
  {
   "cell_type": "code",
   "execution_count": 28,
   "id": "1e7b317a",
   "metadata": {},
   "outputs": [],
   "source": [
    "cat = cv2.imread('./data/cat01.jpg', cv2.IMREAD_COLOR)"
   ]
  },
  {
   "cell_type": "code",
   "execution_count": 26,
   "id": "d3a1b461",
   "metadata": {},
   "outputs": [],
   "source": [
    "# 원그리기 중심, 반지름, 색상, 두께, 옵션\n",
    "cv2.circle(cat, (416, 210), 100, (255, 0, 255), thickness=3, lineType=cv2.LINE_AA)\n",
    "\n",
    "cv2.imshow('Image Manipulation', cat)\n",
    "cv2.waitKey(0)\n",
    "cv2.destroyAllWindows()"
   ]
  },
  {
   "cell_type": "markdown",
   "id": "5a4a7228",
   "metadata": {},
   "source": [
    "<img src=\"../images/result030.jpg\" width=\"650\">"
   ]
  },
  {
   "cell_type": "code",
   "execution_count": 27,
   "id": "3fc816e0",
   "metadata": {},
   "outputs": [],
   "source": [
    "# 원 채우기\n",
    "cv2.circle(cat, (416, 210), 100, (255, 0, 255), thickness=-1, lineType=cv2.LINE_AA)\n",
    "\n",
    "cv2.imshow('Image Manipulation', cat)\n",
    "cv2.waitKey(0)\n",
    "cv2.destroyAllWindows()"
   ]
  },
  {
   "cell_type": "markdown",
   "id": "fe6987bf",
   "metadata": {},
   "source": [
    "<img src=\"../images/result031.jpg\" width=\"650\">"
   ]
  },
  {
   "cell_type": "code",
   "execution_count": 30,
   "id": "f761cb64",
   "metadata": {},
   "outputs": [],
   "source": [
    "# 타원: 중심, 장단축, 회전각, 시작/끝각(도)\n",
    "cv2.ellipse(cat, (340, 390), (70, 40), 30, 0, 360, (0, 90, 200), 5, cv2.LINE_AA)\n",
    "\n",
    "cv2.imshow('Image Manipulation', cat)\n",
    "cv2.waitKey(0)\n",
    "cv2.destroyAllWindows()"
   ]
  },
  {
   "cell_type": "markdown",
   "id": "6f833432",
   "metadata": {},
   "source": [
    "<img src=\"../images/result032.jpg\" width=\"650\">"
   ]
  },
  {
   "cell_type": "markdown",
   "id": "e0080238",
   "metadata": {},
   "source": [
    "### 텍스트 그리기"
   ]
  },
  {
   "cell_type": "code",
   "execution_count": 34,
   "id": "f556307f",
   "metadata": {},
   "outputs": [],
   "source": [
    "cat = cv2.imread('./data/cat01.jpg', cv2.IMREAD_COLOR)"
   ]
  },
  {
   "cell_type": "code",
   "execution_count": 33,
   "id": "b2721e7a",
   "metadata": {},
   "outputs": [],
   "source": [
    "cv2.putText(cat, \"Cutey Kitty\", (40, 30),\n",
    "            cv2.FONT_HERSHEY_SIMPLEX, 0.9, (0, 0, 255), 2, cv2.LINE_AA)\n",
    "\n",
    "cv2.imshow('Image Manipulation', cat)\n",
    "cv2.waitKey(0)\n",
    "cv2.destroyAllWindows()"
   ]
  },
  {
   "cell_type": "markdown",
   "id": "b4150b1c",
   "metadata": {},
   "source": [
    "<img src=\"../images/result033.jpg\" width=\"650\">"
   ]
  },
  {
   "cell_type": "markdown",
   "id": "ac60b3ba",
   "metadata": {},
   "source": [
    "- NanumGothicBold.ttf 를 data 폴더에 위치"
   ]
  },
  {
   "cell_type": "code",
   "execution_count": 35,
   "id": "a2ccdf32",
   "metadata": {},
   "outputs": [
    {
     "name": "stdout",
     "output_type": "stream",
     "text": [
      "Requirement already satisfied: pillow in c:\\dev\\langs\\pythons\\python39\\lib\\site-packages (11.3.0)\n"
     ]
    }
   ],
   "source": [
    "!pip install pillow"
   ]
  },
  {
   "cell_type": "code",
   "execution_count": 36,
   "id": "23175868",
   "metadata": {},
   "outputs": [],
   "source": [
    "from PIL import ImageFont, ImageDraw, Image"
   ]
  },
  {
   "cell_type": "code",
   "execution_count": 43,
   "id": "267d7193",
   "metadata": {},
   "outputs": [],
   "source": [
    "cat = cv2.imread('./data/cat01.jpg', cv2.IMREAD_COLOR)\n",
    "\n",
    "# 글꼴 파일 불러오기\n",
    "font = ImageFont.truetype('./data/NanumGothicBold.ttf', 20)\n",
    "\n",
    "# OpenCV → PIL 변환 (BGR → RGB)\n",
    "img_pil = Image.fromarray(cv2.cvtColor(cat, cv2.COLOR_BGR2RGB))\n",
    "\n",
    "# PIL로 텍스트 그리기\n",
    "draw = ImageDraw.Draw(img_pil)\n",
    "draw.text((50, 100), \"귀여운 고양이에요~~\", font=font, fill=(255, 255, 255))  # 흰색\n",
    "\n",
    "# PIL → OpenCV 변환 (RGB → BGR)\n",
    "img = cv2.cvtColor(np.array(img_pil), cv2.COLOR_RGB2BGR)\n",
    "\n",
    "# 출력\n",
    "cv2.imshow(\"Korean Text with PIL\", img)\n",
    "cv2.waitKey(0)\n",
    "cv2.destroyAllWindows()"
   ]
  },
  {
   "cell_type": "markdown",
   "id": "acfca3cf",
   "metadata": {},
   "source": [
    "<img src=\"../images/result034.jpg\" width=\"650\">"
   ]
  },
  {
   "cell_type": "markdown",
   "id": "de1bbce0",
   "metadata": {},
   "source": [
    "## ROI(Region of Interest) 다루기"
   ]
  },
  {
   "cell_type": "code",
   "execution_count": 47,
   "id": "f316817b",
   "metadata": {},
   "outputs": [],
   "source": [
    "cat = cv2.imread('./data/cat01.jpg', cv2.IMREAD_COLOR)\n",
    "\n",
    "\n",
    "roi = cat[81:367, 298:534]  # ROI는 원본과 메모리 공유 cat[y시작점:y종료점, x시작점:x종료점]\n",
    "\n",
    "# 출력\n",
    "cv2.imshow(\"Kitty Cutting\", roi)\n",
    "cv2.waitKey(0)\n",
    "cv2.destroyAllWindows()"
   ]
  },
  {
   "cell_type": "markdown",
   "id": "6d0fc94e",
   "metadata": {},
   "source": [
    "<img src=\"../images/result035.jpg\" width=\"200\">"
   ]
  },
  {
   "cell_type": "markdown",
   "id": "c4ab4a4c",
   "metadata": {},
   "source": [
    "## 이미지 연산"
   ]
  },
  {
   "cell_type": "markdown",
   "id": "c7093098",
   "metadata": {},
   "source": [
    "### 밝기 조절"
   ]
  },
  {
   "cell_type": "code",
   "execution_count": 49,
   "id": "a99f60b3",
   "metadata": {},
   "outputs": [],
   "source": [
    "cat = cv2.imread('./data/cat01.jpg', cv2.IMREAD_COLOR)\n",
    "\n",
    "brighter = cv2.add(cat, np.array([50.0]))\n",
    "\n",
    "# 출력\n",
    "cv2.imshow(\"Image Calculation\", brighter)\n",
    "cv2.waitKey(0)\n",
    "cv2.destroyAllWindows()"
   ]
  },
  {
   "cell_type": "markdown",
   "id": "92e0ea71",
   "metadata": {},
   "source": [
    "<img src=\"../images/result036.jpg\" width=\"650\">"
   ]
  },
  {
   "cell_type": "code",
   "execution_count": 55,
   "id": "d7eb7cd1",
   "metadata": {},
   "outputs": [],
   "source": [
    "cat = cv2.imread('./data/cat01.jpg', cv2.IMREAD_COLOR)\n",
    "\n",
    "# 더 어둡게 (-50)\n",
    "darker = cv2.subtract(cat, np.array([50.0]))\n",
    "\n",
    "# 출력\n",
    "cv2.imshow(\"Image Calculation\", darker)\n",
    "cv2.waitKey(0)\n",
    "cv2.destroyAllWindows()"
   ]
  },
  {
   "cell_type": "markdown",
   "id": "952aa86e",
   "metadata": {},
   "source": [
    "<img src=\"../images/result037.jpg\" width=\"650\">"
   ]
  },
  {
   "cell_type": "markdown",
   "id": "d56e1687",
   "metadata": {},
   "source": [
    "### 대비 조절"
   ]
  },
  {
   "cell_type": "code",
   "execution_count": 56,
   "id": "5af7b47a",
   "metadata": {},
   "outputs": [],
   "source": [
    "cat = cv2.imread('./data/cat01.jpg', cv2.IMREAD_COLOR)\n",
    "\n",
    "# 대비 증가 (alpha>1.0), beta는 밝기 오프셋\n",
    "contrast_high = cv2.convertScaleAbs(cat, alpha=1.5, beta=0)  # alpha=1.5 → 대비 ↑\n",
    "\n",
    "# 출력\n",
    "cv2.imshow(\"Image Calculation\", contrast_high)\n",
    "cv2.waitKey(0)\n",
    "cv2.destroyAllWindows()"
   ]
  },
  {
   "cell_type": "markdown",
   "id": "501f1a22",
   "metadata": {},
   "source": [
    "<img src=\"../images/result038.jpg\" width=\"650\">"
   ]
  },
  {
   "cell_type": "code",
   "execution_count": 57,
   "id": "b1f7b747",
   "metadata": {},
   "outputs": [],
   "source": [
    "cat = cv2.imread('./data/cat01.jpg', cv2.IMREAD_COLOR)\n",
    "\n",
    "# 대비 감소 (alpha<1.0)\n",
    "contrast_low  = cv2.convertScaleAbs(cat, alpha=0.5, beta=0)  # alpha=0.5 → 대비 ↓\n",
    "\n",
    "# 출력\n",
    "cv2.imshow(\"Image Calculation\", contrast_low)\n",
    "cv2.waitKey(0)\n",
    "cv2.destroyAllWindows()"
   ]
  },
  {
   "cell_type": "markdown",
   "id": "a7365266",
   "metadata": {},
   "source": [
    "<img src=\"../images/result039.jpg\" width=\"650\">"
   ]
  },
  {
   "cell_type": "markdown",
   "id": "fc03dd4c",
   "metadata": {},
   "source": [
    "### 이미지 합성"
   ]
  },
  {
   "cell_type": "code",
   "execution_count": 58,
   "id": "f024a52c",
   "metadata": {},
   "outputs": [],
   "source": [
    "cat = cv2.imread('./data/cat01.jpg', cv2.IMREAD_COLOR)\n",
    "\n",
    "# 다른 색 이미지 만들기\n",
    "overlay = np.full((457, 800, 3), (0, 0, 255), dtype=np.uint8)  # 빨간색 배경\n",
    "cv2.putText(overlay, \"Overlay\", (50, 160),\n",
    "            cv2.FONT_HERSHEY_SIMPLEX, 1.2, (255, 255, 255), 2, cv2.LINE_AA)\n",
    "\n",
    "# alpha=0.6, beta=0.4 (alpha+beta=1)\n",
    "blended = cv2.addWeighted(cat, 0.6, overlay, 0.4, 0)\n",
    "\n",
    "# 출력\n",
    "cv2.imshow(\"Image Calculation\", blended)\n",
    "cv2.waitKey(0)\n",
    "cv2.destroyAllWindows()"
   ]
  },
  {
   "cell_type": "markdown",
   "id": "a6fb45a7",
   "metadata": {},
   "source": [
    "<img src=\"../images/result040.jpg\" width=\"650\">"
   ]
  },
  {
   "cell_type": "markdown",
   "id": "b572fb40",
   "metadata": {},
   "source": [
    "## 블러\n",
    "\n",
    "### 평균 블러"
   ]
  },
  {
   "cell_type": "code",
   "execution_count": 59,
   "id": "a81979f4",
   "metadata": {},
   "outputs": [],
   "source": [
    "cat = cv2.imread('./data/cat01.jpg', cv2.IMREAD_COLOR)\n",
    "\n",
    "# 커널 크기가 클수록 흐림 정도 ↑\n",
    "blur_avg = cv2.blur(cat, (15, 15))  # (width, height) 커널 크기\n",
    "\n",
    "# 출력\n",
    "cv2.imshow(\"Image Calculation\", blur_avg)\n",
    "cv2.waitKey(0)\n",
    "cv2.destroyAllWindows()"
   ]
  },
  {
   "cell_type": "markdown",
   "id": "104bb616",
   "metadata": {},
   "source": [
    "<img src=\"../images/result041.jpg\" width=\"650\">\n"
   ]
  },
  {
   "cell_type": "markdown",
   "id": "f9c7d29b",
   "metadata": {},
   "source": [
    "### 가우시안 블러"
   ]
  },
  {
   "cell_type": "code",
   "execution_count": 61,
   "id": "4db29d0e",
   "metadata": {},
   "outputs": [],
   "source": [
    "cat = cv2.imread('./data/cat01.jpg', cv2.IMREAD_COLOR)\n",
    "\n",
    "# 표준편차 0이면 커널 크기에 맞춰 자동 계산\n",
    "blur_gaussian = cv2.GaussianBlur(cat, (15, 15), 0)\n",
    "\n",
    "# 출력\n",
    "cv2.imshow(\"Image Calculation\", blur_gaussian)\n",
    "cv2.waitKey(0)\n",
    "cv2.destroyAllWindows()"
   ]
  },
  {
   "cell_type": "markdown",
   "id": "687820ed",
   "metadata": {},
   "source": [
    "<img src=\"../images/result042.jpg\" width=\"650\">"
   ]
  },
  {
   "cell_type": "markdown",
   "id": "82c7bf09",
   "metadata": {},
   "source": [
    "### 경계 유지 블러"
   ]
  },
  {
   "cell_type": "code",
   "execution_count": 62,
   "id": "7c3f1b04",
   "metadata": {},
   "outputs": [],
   "source": [
    "cat = cv2.imread('./data/cat01.jpg', cv2.IMREAD_COLOR)\n",
    "\n",
    "# d=픽셀 이웃 거리, sigmaColor=색상 거리, sigmaSpace=공간 거리\n",
    "blur_bilateral = cv2.bilateralFilter(cat, d=15, sigmaColor=80, sigmaSpace=80)\n",
    "\n",
    "# 출력\n",
    "cv2.imshow(\"Image Calculation\", blur_bilateral)\n",
    "cv2.waitKey(0)\n",
    "cv2.destroyAllWindows()"
   ]
  },
  {
   "cell_type": "markdown",
   "id": "2e3567bb",
   "metadata": {},
   "source": [
    "<img src=\"../images/result043.jpg\" width=\"650\">\n"
   ]
  },
  {
   "cell_type": "markdown",
   "id": "9c607687",
   "metadata": {},
   "source": [
    "## 엣지 검출"
   ]
  },
  {
   "cell_type": "code",
   "execution_count": 63,
   "id": "dc7b1a6f",
   "metadata": {},
   "outputs": [],
   "source": [
    "cat = cv2.imread('./data/cat01.jpg', cv2.IMREAD_COLOR)\n",
    "\n",
    "# 그레이스케일 변환\n",
    "gray = cv2.cvtColor(cat, cv2.COLOR_BGR2GRAY)\n",
    "\n",
    "# Sobel 필터\n",
    "sobel_x = cv2.Sobel(gray, cv2.CV_64F, 1, 0, ksize=3)\n",
    "sobel_y = cv2.Sobel(gray, cv2.CV_64F, 0, 1, ksize=3)\n",
    "# 절대값 취한 뒤 8비트 변환\n",
    "sobel_x = cv2.convertScaleAbs(sobel_x)\n",
    "sobel_y = cv2.convertScaleAbs(sobel_y)\n",
    "sobel_xy = cv2.addWeighted(sobel_x, 0.5, sobel_y, 0.5, 0)\n",
    "\n",
    "# Laplacian 필터\n",
    "laplacian = cv2.Laplacian(gray, cv2.CV_64F)\n",
    "laplacian = cv2.convertScaleAbs(laplacian)\n",
    "\n",
    "# Canny 엣지\n",
    "canny = cv2.Canny(gray, threshold1=100, threshold2=200)"
   ]
  },
  {
   "cell_type": "markdown",
   "id": "b0a2748d",
   "metadata": {},
   "source": [
    "### Sobel 필터"
   ]
  },
  {
   "cell_type": "code",
   "execution_count": 64,
   "id": "8a8d0c8e",
   "metadata": {},
   "outputs": [],
   "source": [
    "# 출력\n",
    "cv2.imshow(\"Image Calculation\", sobel_xy)\n",
    "cv2.waitKey(0)\n",
    "cv2.destroyAllWindows()"
   ]
  },
  {
   "cell_type": "markdown",
   "id": "707a38a0",
   "metadata": {},
   "source": [
    "<img src=\"../images/result044.jpg\" width=\"650\">"
   ]
  },
  {
   "cell_type": "markdown",
   "id": "db08e691",
   "metadata": {},
   "source": [
    "### 라플라시안 필터"
   ]
  },
  {
   "cell_type": "code",
   "execution_count": 65,
   "id": "3a3e115e",
   "metadata": {},
   "outputs": [],
   "source": [
    "# 출력\n",
    "cv2.imshow(\"Image Calculation\", laplacian)\n",
    "cv2.waitKey(0)\n",
    "cv2.destroyAllWindows()"
   ]
  },
  {
   "cell_type": "markdown",
   "id": "c94422e1",
   "metadata": {},
   "source": [
    "<img src=\"../images/result045.jpg\" width=\"650\">"
   ]
  },
  {
   "cell_type": "markdown",
   "id": "a5e52c21",
   "metadata": {},
   "source": [
    "### Canny 엣지"
   ]
  },
  {
   "cell_type": "code",
   "execution_count": 66,
   "id": "223e7ad7",
   "metadata": {},
   "outputs": [],
   "source": [
    "# 출력\n",
    "cv2.imshow(\"Image Calculation\", canny)\n",
    "cv2.waitKey(0)\n",
    "cv2.destroyAllWindows()"
   ]
  },
  {
   "cell_type": "markdown",
   "id": "27b46049",
   "metadata": {},
   "source": [
    "<img src=\"../images/result046.jpg\" width=\"650\">"
   ]
  }
 ],
 "metadata": {
  "kernelspec": {
   "display_name": "Python 3",
   "language": "python",
   "name": "python3"
  },
  "language_info": {
   "codemirror_mode": {
    "name": "ipython",
    "version": 3
   },
   "file_extension": ".py",
   "mimetype": "text/x-python",
   "name": "python",
   "nbconvert_exporter": "python",
   "pygments_lexer": "ipython3",
   "version": "3.9.13"
  }
 },
 "nbformat": 4,
 "nbformat_minor": 5
}
