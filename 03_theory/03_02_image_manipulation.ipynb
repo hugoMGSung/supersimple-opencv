{
 "cells": [
  {
   "cell_type": "markdown",
   "id": "0d7fb88e",
   "metadata": {},
   "source": [
    "# 이미지 처리 이론 2\n",
    "\n",
    "## 이미지 읽기\n",
    "\n",
    "### 라이브러리 로드"
   ]
  },
  {
   "cell_type": "code",
   "execution_count": 1,
   "id": "c054f27c",
   "metadata": {},
   "outputs": [],
   "source": [
    "import cv2\n",
    "import numpy as np"
   ]
  },
  {
   "cell_type": "markdown",
   "id": "99516ad3",
   "metadata": {},
   "source": [
    "## 직선 그리기"
   ]
  },
  {
   "cell_type": "markdown",
   "id": "98a81edd",
   "metadata": {},
   "source": [
    "### 고양이 부르기"
   ]
  },
  {
   "cell_type": "code",
   "execution_count": 4,
   "id": "6de0a7d2",
   "metadata": {},
   "outputs": [],
   "source": [
    "cat = cv2.imread('./data/cat01.jpg', cv2.IMREAD_COLOR)"
   ]
  },
  {
   "cell_type": "markdown",
   "id": "50880bec",
   "metadata": {},
   "source": [
    "### 직선 그리기"
   ]
  },
  {
   "cell_type": "code",
   "execution_count": null,
   "id": "d9d1594b",
   "metadata": {},
   "outputs": [],
   "source": [
    "# 기본 빨간 직선 (두께 2)\n",
    "cv2.line(cat, (40, 60), (300, 60), (0, 0, 255), thickness=2)\n",
    "\n",
    "cv2.imshow('Image Manipulation', cat)\n",
    "cv2.waitKey(0)\n",
    "cv2.destroyAllWindows()"
   ]
  },
  {
   "cell_type": "markdown",
   "id": "d7fed71f",
   "metadata": {},
   "source": [
    "<img src=\"../images/result023.png\" width=\"650\">"
   ]
  },
  {
   "cell_type": "code",
   "execution_count": 6,
   "id": "edad1fc5",
   "metadata": {},
   "outputs": [],
   "source": [
    "# 파란 사선 (두께 3)\n",
    "cv2.line(cat, (40, 100), (300, 160), (255, 0, 0), thickness=3)\n",
    "\n",
    "cv2.imshow('Image Manipulation', cat)\n",
    "cv2.waitKey(0)\n",
    "cv2.destroyAllWindows()"
   ]
  },
  {
   "cell_type": "markdown",
   "id": "b93aebec",
   "metadata": {},
   "source": [
    "<img src=\"../images/result024.webp\" width=\"650\">"
   ]
  }
 ],
 "metadata": {
  "kernelspec": {
   "display_name": "Python 3",
   "language": "python",
   "name": "python3"
  },
  "language_info": {
   "codemirror_mode": {
    "name": "ipython",
    "version": 3
   },
   "file_extension": ".py",
   "mimetype": "text/x-python",
   "name": "python",
   "nbconvert_exporter": "python",
   "pygments_lexer": "ipython3",
   "version": "3.9.13"
  }
 },
 "nbformat": 4,
 "nbformat_minor": 5
}
