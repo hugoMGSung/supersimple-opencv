{
 "cells": [
  {
   "cell_type": "markdown",
   "id": "c3126ca3",
   "metadata": {},
   "source": [
    "## 실시간 웹캠 처리 대충 써보기"
   ]
  },
  {
   "cell_type": "markdown",
   "id": "90a54b4b",
   "metadata": {},
   "source": [
    "### 라이브러리 로드"
   ]
  },
  {
   "cell_type": "code",
   "execution_count": 1,
   "id": "1284c7e6",
   "metadata": {},
   "outputs": [],
   "source": [
    "import cv2\n",
    "import numpy as np"
   ]
  },
  {
   "cell_type": "markdown",
   "id": "8f254833",
   "metadata": {},
   "source": [
    "### 웹캠 실시간 재생"
   ]
  },
  {
   "cell_type": "code",
   "execution_count": 3,
   "id": "a0e59ccb",
   "metadata": {},
   "outputs": [],
   "source": [
    "capture = cv2.VideoCapture(0)\n",
    "\n",
    "while True:\n",
    "    ret, frame = capture.read()\n",
    "    if not ret: break\n",
    "\n",
    "    cv2.imshow(\"webcam\", frame)\n",
    "    if cv2.waitKey(1) == ord('q'): break\n",
    "\n",
    "capture.release()\n",
    "cv2.destroyAllWindows()"
   ]
  },
  {
   "cell_type": "markdown",
   "id": "773239bb",
   "metadata": {},
   "source": [
    "### 실행 결과\n",
    "\n",
    "<img src=\"../images/result003.png\" width=\"650\">"
   ]
  }
 ],
 "metadata": {
  "kernelspec": {
   "display_name": "Python 3",
   "language": "python",
   "name": "python3"
  },
  "language_info": {
   "codemirror_mode": {
    "name": "ipython",
    "version": 3
   },
   "file_extension": ".py",
   "mimetype": "text/x-python",
   "name": "python",
   "nbconvert_exporter": "python",
   "pygments_lexer": "ipython3",
   "version": "3.9.13"
  }
 },
 "nbformat": 4,
 "nbformat_minor": 5
}
