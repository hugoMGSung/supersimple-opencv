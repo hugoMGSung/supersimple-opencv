{
 "cells": [
  {
   "cell_type": "markdown",
   "id": "247fe6a4",
   "metadata": {},
   "source": [
    "## 이미지 처리 대충 써보기"
   ]
  },
  {
   "cell_type": "markdown",
   "id": "f1877839",
   "metadata": {},
   "source": [
    "### 라이브러리 로드"
   ]
  },
  {
   "cell_type": "code",
   "execution_count": 1,
   "id": "869a2a4a",
   "metadata": {},
   "outputs": [],
   "source": [
    "import cv2\n",
    "import numpy as np"
   ]
  },
  {
   "cell_type": "markdown",
   "id": "b9226b6c",
   "metadata": {},
   "source": [
    "### OpenCV 버전확인"
   ]
  },
  {
   "cell_type": "code",
   "execution_count": 2,
   "id": "648b9c17",
   "metadata": {},
   "outputs": [
    {
     "data": {
      "text/plain": [
       "'4.12.0'"
      ]
     },
     "execution_count": 2,
     "metadata": {},
     "output_type": "execute_result"
    }
   ],
   "source": [
    "cv2.__version__"
   ]
  },
  {
   "cell_type": "markdown",
   "id": "38a953a6",
   "metadata": {},
   "source": [
    "### CUDA GPU 사용여부 확인"
   ]
  },
  {
   "cell_type": "code",
   "execution_count": 3,
   "id": "eb33f13a",
   "metadata": {},
   "outputs": [
    {
     "data": {
      "text/plain": [
       "1"
      ]
     },
     "execution_count": 3,
     "metadata": {},
     "output_type": "execute_result"
    }
   ],
   "source": [
    "cv2.cuda.getCudaEnabledDeviceCount()"
   ]
  },
  {
   "cell_type": "markdown",
   "id": "acb8e589",
   "metadata": {},
   "source": [
    "### 이미지 로드"
   ]
  },
  {
   "cell_type": "code",
   "execution_count": 4,
   "id": "438c1baf",
   "metadata": {},
   "outputs": [],
   "source": [
    "img = cv2.imread(filename='./data/cat01.jpg')\n",
    "\n",
    "cv2.imshow('image', img)\n",
    "cv2.waitKey(0)\n",
    "cv2.destroyAllWindows()"
   ]
  },
  {
   "cell_type": "markdown",
   "id": "54fa44a0",
   "metadata": {},
   "source": [
    "#### 결과\n",
    "\n",
    "<img src=\"../images/result001.png\" width=\"650\">"
   ]
  }
 ],
 "metadata": {
  "kernelspec": {
   "display_name": "Python 3",
   "language": "python",
   "name": "python3"
  },
  "language_info": {
   "codemirror_mode": {
    "name": "ipython",
    "version": 3
   },
   "file_extension": ".py",
   "mimetype": "text/x-python",
   "name": "python",
   "nbconvert_exporter": "python",
   "pygments_lexer": "ipython3",
   "version": "3.9.13"
  }
 },
 "nbformat": 4,
 "nbformat_minor": 5
}
